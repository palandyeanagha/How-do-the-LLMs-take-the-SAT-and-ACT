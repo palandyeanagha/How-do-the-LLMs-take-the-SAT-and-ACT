{
 "cells": [
  {
   "cell_type": "markdown",
   "metadata": {
    "id": "P6YCpctyQe4i"
   },
   "source": [
    "# Install llm lingua\n",
    "####  pip install llmlingua\n"
   ]
  },
  {
   "cell_type": "markdown",
   "metadata": {
    "id": "53f1qdSHQbyi"
   },
   "source": []
  },
  {
   "cell_type": "code",
   "execution_count": 1,
   "metadata": {
    "execution": {
     "iopub.execute_input": "2025-04-08T02:02:07.870709Z",
     "iopub.status.busy": "2025-04-08T02:02:07.870144Z",
     "iopub.status.idle": "2025-04-08T02:02:12.816969Z",
     "shell.execute_reply": "2025-04-08T02:02:12.815897Z",
     "shell.execute_reply.started": "2025-04-08T02:02:07.870678Z"
    },
    "id": "WRwkqj32Tn1g",
    "trusted": true
   },
   "outputs": [],
   "source": [
    "!pip install llmlingua -q"
   ]
  },
  {
   "cell_type": "code",
   "execution_count": 2,
   "metadata": {
    "execution": {
     "iopub.execute_input": "2025-04-08T02:02:12.818257Z",
     "iopub.status.busy": "2025-04-08T02:02:12.818006Z",
     "iopub.status.idle": "2025-04-08T02:02:16.069101Z",
     "shell.execute_reply": "2025-04-08T02:02:16.068197Z",
     "shell.execute_reply.started": "2025-04-08T02:02:12.818234Z"
    },
    "id": "BD3dtOns_utk",
    "trusted": true
   },
   "outputs": [],
   "source": [
    "!pip install accelerate torch -q"
   ]
  },
  {
   "cell_type": "code",
   "execution_count": 3,
   "metadata": {
    "execution": {
     "iopub.execute_input": "2025-04-08T02:02:27.070024Z",
     "iopub.status.busy": "2025-04-08T02:02:27.069714Z",
     "iopub.status.idle": "2025-04-08T02:02:35.273872Z",
     "shell.execute_reply": "2025-04-08T02:02:35.272983Z",
     "shell.execute_reply.started": "2025-04-08T02:02:27.069997Z"
    },
    "id": "sQ2Y-FqA_w8F",
    "trusted": true
   },
   "outputs": [],
   "source": [
    "import json\n",
    "from llmlingua import PromptCompressor\n",
    "import tiktoken  # For token counting\n",
    "import os"
   ]
  },
  {
   "cell_type": "code",
   "execution_count": 4,
   "metadata": {
    "colab": {
     "base_uri": "https://localhost:8080/"
    },
    "execution": {
     "iopub.execute_input": "2025-03-31T18:12:55.150066Z",
     "iopub.status.busy": "2025-03-31T18:12:55.149710Z",
     "iopub.status.idle": "2025-03-31T18:12:55.153324Z",
     "shell.execute_reply": "2025-03-31T18:12:55.152418Z",
     "shell.execute_reply.started": "2025-03-31T18:12:55.150045Z"
    },
    "id": "m89B6Oia_3Fs",
    "outputId": "8ccd5e76-ce4d-487b-d6ac-69253a3a46c5",
    "trusted": true
   },
   "outputs": [],
   "source": [
    "# from google.colab import drive\n",
    "# drive.mount('/content/drive')\n",
    "# os.chdir('/content/drive/MyDrive/NLU_FinalProject/Data/JSONL_Formatted/SAT_ACT/')"
   ]
  },
  {
   "cell_type": "code",
   "execution_count": 4,
   "metadata": {
    "colab": {
     "base_uri": "https://localhost:8080/",
     "height": 460
    },
    "execution": {
     "iopub.execute_input": "2025-04-08T02:02:36.269502Z",
     "iopub.status.busy": "2025-04-08T02:02:36.268998Z",
     "iopub.status.idle": "2025-04-08T02:03:23.435694Z",
     "shell.execute_reply": "2025-04-08T02:03:23.434969Z",
     "shell.execute_reply.started": "2025-04-08T02:02:36.269471Z"
    },
    "id": "3-jyapDc_3Iu",
    "outputId": "99baf46b-74dd-485a-bcaa-8ae925c9dbe2",
    "trusted": true
   },
   "outputs": [
    {
     "data": {
      "application/vnd.jupyter.widget-view+json": {
       "model_id": "2fa1344cc4f84b5ba994c3fb9f083991",
       "version_major": 2,
       "version_minor": 0
      },
      "text/plain": [
       "config.json:   0%|          | 0.00/752 [00:00<?, ?B/s]"
      ]
     },
     "metadata": {},
     "output_type": "display_data"
    },
    {
     "data": {
      "application/vnd.jupyter.widget-view+json": {
       "model_id": "e66b4336d98a487998a0defa644f28d7",
       "version_major": 2,
       "version_minor": 0
      },
      "text/plain": [
       "tokenizer_config.json:   0%|          | 0.00/1.15k [00:00<?, ?B/s]"
      ]
     },
     "metadata": {},
     "output_type": "display_data"
    },
    {
     "data": {
      "application/vnd.jupyter.widget-view+json": {
       "model_id": "54feac1d6ca2436781773258fdcb3e82",
       "version_major": 2,
       "version_minor": 0
      },
      "text/plain": [
       "tokenizer.json:   0%|          | 0.00/17.1M [00:00<?, ?B/s]"
      ]
     },
     "metadata": {},
     "output_type": "display_data"
    },
    {
     "data": {
      "application/vnd.jupyter.widget-view+json": {
       "model_id": "03d310cba900422e8b2e55ad69486f09",
       "version_major": 2,
       "version_minor": 0
      },
      "text/plain": [
       "special_tokens_map.json:   0%|          | 0.00/280 [00:00<?, ?B/s]"
      ]
     },
     "metadata": {},
     "output_type": "display_data"
    },
    {
     "data": {
      "application/vnd.jupyter.widget-view+json": {
       "model_id": "d48b59b54978408db03f54c53ae50c69",
       "version_major": 2,
       "version_minor": 0
      },
      "text/plain": [
       "model.safetensors:   0%|          | 0.00/2.24G [00:00<?, ?B/s]"
      ]
     },
     "metadata": {},
     "output_type": "display_data"
    }
   ],
   "source": [
    "# Initialize LLMLingua-2 compressor\n",
    "llm_lingua = PromptCompressor(\n",
    "    model_name=\"microsoft/llmlingua-2-xlm-roberta-large-meetingbank\",\n",
    "    use_llmlingua2=True\n",
    ")\n",
    "\n",
    "# Initialize token counter (using OpenAI's tiktoken)\n",
    "encoding = tiktoken.get_encoding(\"cl100k_base\")"
   ]
  },
  {
   "cell_type": "code",
   "execution_count": 15,
   "metadata": {
    "execution": {
     "iopub.execute_input": "2025-04-08T02:16:45.067080Z",
     "iopub.status.busy": "2025-04-08T02:16:45.066757Z",
     "iopub.status.idle": "2025-04-08T02:16:45.081424Z",
     "shell.execute_reply": "2025-04-08T02:16:45.080661Z",
     "shell.execute_reply.started": "2025-04-08T02:16:45.067057Z"
    },
    "id": "toi81fmC_7LY",
    "trusted": true
   },
   "outputs": [],
   "source": [
    "# Load the JSONL file\n",
    "#change path and file name\n",
    "input_file = \"/kaggle/input/satact/SATACT_v3_tst.jsonl\"  # Replace with your input file name if different\n",
    "data = []\n",
    "with open(input_file, \"r\") as f:\n",
    "    for line in f:\n",
    "        data.append(json.loads(line.strip()))"
   ]
  },
  {
   "cell_type": "code",
   "execution_count": 16,
   "metadata": {
    "execution": {
     "iopub.execute_input": "2025-04-08T02:16:45.693736Z",
     "iopub.status.busy": "2025-04-08T02:16:45.693476Z",
     "iopub.status.idle": "2025-04-08T02:16:45.699811Z",
     "shell.execute_reply": "2025-04-08T02:16:45.699063Z",
     "shell.execute_reply.started": "2025-04-08T02:16:45.693716Z"
    },
    "id": "L2c92aQb_7OJ",
    "trusted": true
   },
   "outputs": [
    {
     "data": {
      "text/plain": [
       "264"
      ]
     },
     "execution_count": 16,
     "metadata": {},
     "output_type": "execute_result"
    }
   ],
   "source": [
    "import pandas as pd\n",
    "df = pd.DataFrame(data)\n",
    "len(df)"
   ]
  },
  {
   "cell_type": "code",
   "execution_count": 17,
   "metadata": {
    "execution": {
     "iopub.execute_input": "2025-04-08T02:16:50.163045Z",
     "iopub.status.busy": "2025-04-08T02:16:50.162683Z",
     "iopub.status.idle": "2025-04-08T02:16:50.175950Z",
     "shell.execute_reply": "2025-04-08T02:16:50.174860Z",
     "shell.execute_reply.started": "2025-04-08T02:16:50.163017Z"
    },
    "id": "MaKdihTXAV7p",
    "trusted": true
   },
   "outputs": [
    {
     "data": {
      "text/html": [
       "<div>\n",
       "<style scoped>\n",
       "    .dataframe tbody tr th:only-of-type {\n",
       "        vertical-align: middle;\n",
       "    }\n",
       "\n",
       "    .dataframe tbody tr th {\n",
       "        vertical-align: top;\n",
       "    }\n",
       "\n",
       "    .dataframe thead th {\n",
       "        text-align: right;\n",
       "    }\n",
       "</style>\n",
       "<table border=\"1\" class=\"dataframe\">\n",
       "  <thead>\n",
       "    <tr style=\"text-align: right;\">\n",
       "      <th></th>\n",
       "      <th>context</th>\n",
       "      <th>question</th>\n",
       "      <th>answerA</th>\n",
       "      <th>answerB</th>\n",
       "      <th>answerC</th>\n",
       "      <th>answerD</th>\n",
       "      <th>correct</th>\n",
       "    </tr>\n",
       "  </thead>\n",
       "  <tbody>\n",
       "    <tr>\n",
       "      <th>0</th>\n",
       "      <td>The following text is adapted from Paul Lauren...</td>\n",
       "      <td>Which choice best states the main purpose of t...</td>\n",
       "      <td>It illustrates a character’s reaction to a new...</td>\n",
       "      <td>It explains why a character has traveled to a ...</td>\n",
       "      <td>It compares a character’s thoughts about an ev...</td>\n",
       "      <td>It presents a character feeling regret over le...</td>\n",
       "      <td>A</td>\n",
       "    </tr>\n",
       "    <tr>\n",
       "      <th>1</th>\n",
       "      <td>Painter Alma W. Thomas was fascinated by the c...</td>\n",
       "      <td>Which choice completes the text with the most ...</td>\n",
       "      <td>restricted</td>\n",
       "      <td>announced</td>\n",
       "      <td>distracted</td>\n",
       "      <td>influenced</td>\n",
       "      <td>D</td>\n",
       "    </tr>\n",
       "    <tr>\n",
       "      <th>2</th>\n",
       "      <td>While researching a topic, a student has taken...</td>\n",
       "      <td>The student wants to emphasize the duration an...</td>\n",
       "      <td>At the Gullah Museums in Hilton Head Island an...</td>\n",
       "      <td>Louise Miller Cohen and Vermelle Rodrigues hav...</td>\n",
       "      <td>Since 2003, Louise Miller Cohen and Vermelle R...</td>\n",
       "      <td>Influenced by the traditions of West and Centr...</td>\n",
       "      <td>C</td>\n",
       "    </tr>\n",
       "    <tr>\n",
       "      <th>3</th>\n",
       "      <td>The works of Chicana artist Ester Hernandez ar...</td>\n",
       "      <td>Which choice completes the text with the most ...</td>\n",
       "      <td>invented</td>\n",
       "      <td>adjusted</td>\n",
       "      <td>featured</td>\n",
       "      <td>recommended</td>\n",
       "      <td>C</td>\n",
       "    </tr>\n",
       "    <tr>\n",
       "      <th>4</th>\n",
       "      <td>Roasted green chiles are a popular ingredient ...</td>\n",
       "      <td>Which finding, if true, would most directly su...</td>\n",
       "      <td>The temperature inside the roasting drum is di...</td>\n",
       "      <td>Attempts to roast green chiles using 50 helios...</td>\n",
       "      <td>Green chile connoisseurs prefer the flavor of ...</td>\n",
       "      <td>The skins of solar-roasted green chiles are ea...</td>\n",
       "      <td>B</td>\n",
       "    </tr>\n",
       "  </tbody>\n",
       "</table>\n",
       "</div>"
      ],
      "text/plain": [
       "                                             context  \\\n",
       "0  The following text is adapted from Paul Lauren...   \n",
       "1  Painter Alma W. Thomas was fascinated by the c...   \n",
       "2  While researching a topic, a student has taken...   \n",
       "3  The works of Chicana artist Ester Hernandez ar...   \n",
       "4  Roasted green chiles are a popular ingredient ...   \n",
       "\n",
       "                                            question  \\\n",
       "0  Which choice best states the main purpose of t...   \n",
       "1  Which choice completes the text with the most ...   \n",
       "2  The student wants to emphasize the duration an...   \n",
       "3  Which choice completes the text with the most ...   \n",
       "4  Which finding, if true, would most directly su...   \n",
       "\n",
       "                                             answerA  \\\n",
       "0  It illustrates a character’s reaction to a new...   \n",
       "1                                         restricted   \n",
       "2  At the Gullah Museums in Hilton Head Island an...   \n",
       "3                                           invented   \n",
       "4  The temperature inside the roasting drum is di...   \n",
       "\n",
       "                                             answerB  \\\n",
       "0  It explains why a character has traveled to a ...   \n",
       "1                                          announced   \n",
       "2  Louise Miller Cohen and Vermelle Rodrigues hav...   \n",
       "3                                           adjusted   \n",
       "4  Attempts to roast green chiles using 50 helios...   \n",
       "\n",
       "                                             answerC  \\\n",
       "0  It compares a character’s thoughts about an ev...   \n",
       "1                                         distracted   \n",
       "2  Since 2003, Louise Miller Cohen and Vermelle R...   \n",
       "3                                           featured   \n",
       "4  Green chile connoisseurs prefer the flavor of ...   \n",
       "\n",
       "                                             answerD correct  \n",
       "0  It presents a character feeling regret over le...       A  \n",
       "1                                         influenced       D  \n",
       "2  Influenced by the traditions of West and Centr...       C  \n",
       "3                                        recommended       C  \n",
       "4  The skins of solar-roasted green chiles are ea...       B  "
      ]
     },
     "execution_count": 17,
     "metadata": {},
     "output_type": "execute_result"
    }
   ],
   "source": [
    "df.head(5)"
   ]
  },
  {
   "cell_type": "code",
   "execution_count": 18,
   "metadata": {
    "execution": {
     "iopub.execute_input": "2025-04-08T02:16:54.857892Z",
     "iopub.status.busy": "2025-04-08T02:16:54.857558Z",
     "iopub.status.idle": "2025-04-08T02:16:54.862696Z",
     "shell.execute_reply": "2025-04-08T02:16:54.861882Z",
     "shell.execute_reply.started": "2025-04-08T02:16:54.857865Z"
    },
    "id": "5XvtJpYKJnYQ",
    "trusted": true
   },
   "outputs": [
    {
     "name": "stdout",
     "output_type": "stream",
     "text": [
      "Number of rows with underscores in the 'context' column: 133\n"
     ]
    }
   ],
   "source": [
    "# Check num of fill in the blank type of Qs : ' _', '______'\n",
    "# Count rows with underscores in the \"context\" column\n",
    "underscore_count = sum(1 for item in data if \"_\" in item[\"context\"])\n",
    "\n",
    "print(f\"Number of rows with underscores in the 'context' column: {underscore_count}\")"
   ]
  },
  {
   "cell_type": "code",
   "execution_count": 19,
   "metadata": {
    "execution": {
     "iopub.execute_input": "2025-04-08T02:17:20.235151Z",
     "iopub.status.busy": "2025-04-08T02:17:20.234770Z",
     "iopub.status.idle": "2025-04-08T02:18:12.586729Z",
     "shell.execute_reply": "2025-04-08T02:18:12.585948Z",
     "shell.execute_reply.started": "2025-04-08T02:17:20.235120Z"
    },
    "trusted": true
   },
   "outputs": [
    {
     "name": "stdout",
     "output_type": "stream",
     "text": [
      "Processed data saved to compressed_prompts_satact_v3_tst.jsonl\n",
      "\n",
      "Summary Statistics:\n",
      "Total original tokens: 37334\n",
      "Total compressed tokens: 17949\n",
      "Avg compression ratio: 2.08x\n",
      "Processed data saved to cmprsd_prmpt_satact_v3_tst.jsonl\n",
      "Output saved to Excel file: cmprsd_prmpt_satact_v3_tst.xlsx\n"
     ]
    }
   ],
   "source": [
    "# Function to compress a single prompt\n",
    "def compress_prompt(text):\n",
    "    if \"[BLANK]\" in text:\n",
    "        # Split the context into two parts around the token\n",
    "        parts = text.split(\"[BLANK]\")\n",
    "        before_token = parts[0]\n",
    "        after_token = parts[1]\n",
    "        \n",
    "        # Compress each part individually\n",
    "        compressed_before = llm_lingua.compress_prompt(before_token)[\"compressed_prompt\"]\n",
    "        compressed_after = llm_lingua.compress_prompt(after_token)[\"compressed_prompt\"]\n",
    "        \n",
    "        # Concatenate the compressed parts with the token\n",
    "        compressed_context = compressed_before + \"[BLANK]\" + compressed_after\n",
    "    else:\n",
    "        # Simple compression if the token is not present\n",
    "        compressed_context = llm_lingua.compress_prompt(text)[\"compressed_prompt\"]\n",
    "    \n",
    "    return compressed_context\n",
    "\n",
    "\n",
    "# Process each item in the JSON data\n",
    "for item in data:\n",
    "    #replace(\"_\", \"[BLANK]\")\n",
    "    item[\"context\"] = item[\"context\"].replace(\"______\", \"_\")\n",
    "    item[\"context\"] = item[\"context\"].replace(\"_\", \"[BLANK]\")\n",
    "    original_prompt = item[\"context\"]\n",
    "\n",
    "    # Compress the prompt\n",
    "    compressed_prompt = compress_prompt(original_prompt)\n",
    "\n",
    "    # Calculate token sizes\n",
    "    original_token_size = len(encoding.encode(original_prompt))\n",
    "    compressed_token_size = len(encoding.encode(compressed_prompt))\n",
    "\n",
    "    # Add new fields to the item while preserving existing ones\n",
    "    item[\"compressed_prompt\"] = compressed_prompt\n",
    "    item[\"token_size_before\"] = original_token_size\n",
    "    item[\"token_size_after\"] = compressed_token_size\n",
    "\n",
    "# Save the updated data to a new JSON file\n",
    "output_file = \"compressed_prompts_satact_v3_tst.jsonl\"\n",
    "with open(output_file, \"w\") as f:\n",
    "    json.dump(data, f, indent=4)\n",
    "\n",
    "print(f\"Processed data saved to {output_file}\")\n",
    "\n",
    "# Optional: Print summary statistics\n",
    "total_original_tokens = sum(item[\"token_size_before\"] for item in data)\n",
    "total_compressed_tokens = sum(item[\"token_size_after\"] for item in data)\n",
    "print(f\"\\nSummary Statistics:\")\n",
    "print(f\"Total original tokens: {total_original_tokens}\")\n",
    "print(f\"Total compressed tokens: {total_compressed_tokens}\")\n",
    "print(f\"Avg compression ratio: {total_original_tokens / total_compressed_tokens:.2f}x\")\n",
    "\n",
    "\n",
    "\n",
    "os.chdir('/kaggle/working')\n",
    "os.listdir()\n",
    "\n",
    "\n",
    "# Save the updated data to a new JSON file\n",
    "output_file = \"cmprsd_prmpt_satact_v3_tst.jsonl\"\n",
    "with open(output_file, \"w\") as f:\n",
    "    json.dump(data, f, indent=4)\n",
    "\n",
    "print(f\"Processed data saved to {output_file}\")\n",
    "\n",
    "\n",
    "# Save the output to an Excel file\n",
    "excel_output_file = \"cmprsd_prmpt_satact_v3_tst.xlsx\"\n",
    "df = pd.DataFrame(data)\n",
    "df.to_excel(excel_output_file, index=False)\n",
    "print(f\"Output saved to Excel file: {excel_output_file}\")"
   ]
  },
  {
   "cell_type": "markdown",
   "metadata": {},
   "source": [
    "\n",
    "##### Summary Statistics:\n",
    "- Total original tokens: 126094\n",
    "- Total compressed tokens: 60462\n",
    "- Avg compression ratio: 2.09x\n",
    "- Processed data saved to cmprsd_prmpt_satact_v3_trn.jsonl\n",
    "- Output saved to Excel file: cmprsd_prmpt_satact_v3_trn.xlsx\n",
    "\n",
    "##### Summary Statistics:\n",
    "- Total original tokens: 19620\n",
    "- Total compressed tokens: 9448\n",
    "- Avg compression ratio: 2.08x\n",
    "- Processed data saved to cmprsd_prmpt_satact_v3_dev.jsonl\n",
    "- Output saved to Excel file: cmprsd_prmpt_satact_v3_dev.xlsx\n",
    "\n",
    "##### Summary Statistics:\n",
    "- Total original tokens: 37334\n",
    "- Total compressed tokens: 17949\n",
    "- Avg compression ratio: 2.08x\n",
    "- Processed data saved to cmprsd_prmpt_satact_v3_tst.jsonl\n",
    "- Output saved to Excel file: cmprsd_prmpt_satact_v3_tst.xlsx"
   ]
  },
  {
   "cell_type": "markdown",
   "metadata": {},
   "source": [
    "# Prompt Compression for RACE-H data"
   ]
  },
  {
   "cell_type": "code",
   "execution_count": 92,
   "metadata": {
    "execution": {
     "iopub.execute_input": "2025-04-08T05:00:39.881778Z",
     "iopub.status.busy": "2025-04-08T05:00:39.881465Z",
     "iopub.status.idle": "2025-04-08T05:00:42.293650Z",
     "shell.execute_reply": "2025-04-08T05:00:42.292873Z",
     "shell.execute_reply.started": "2025-04-08T05:00:39.881753Z"
    },
    "trusted": true
   },
   "outputs": [],
   "source": [
    "# Load the JSONL file\n",
    "#change path and file name\n",
    "input_file = \"/kaggle/input/raceh-dataset/RACE-H_v1_trn.jsonl\"  # Replace with your input file name if different\n",
    "data = []\n",
    "with open(input_file, \"r\") as f:\n",
    "    for line in f:\n",
    "        data.append(json.loads(line.strip()))"
   ]
  },
  {
   "cell_type": "code",
   "execution_count": 93,
   "metadata": {
    "execution": {
     "iopub.execute_input": "2025-04-08T05:00:42.295159Z",
     "iopub.status.busy": "2025-04-08T05:00:42.294801Z",
     "iopub.status.idle": "2025-04-08T05:00:42.299283Z",
     "shell.execute_reply": "2025-04-08T05:00:42.298439Z",
     "shell.execute_reply.started": "2025-04-08T05:00:42.295128Z"
    },
    "trusted": true
   },
   "outputs": [],
   "source": [
    "pd.set_option('display.max_rows', None)\n",
    "pd.set_option('display.max_colwidth', None)"
   ]
  },
  {
   "cell_type": "code",
   "execution_count": 94,
   "metadata": {
    "execution": {
     "iopub.execute_input": "2025-04-08T05:00:42.301287Z",
     "iopub.status.busy": "2025-04-08T05:00:42.300727Z",
     "iopub.status.idle": "2025-04-08T05:00:42.388912Z",
     "shell.execute_reply": "2025-04-08T05:00:42.388126Z",
     "shell.execute_reply.started": "2025-04-08T05:00:42.301259Z"
    },
    "trusted": true
   },
   "outputs": [
    {
     "data": {
      "text/plain": [
       "62445"
      ]
     },
     "execution_count": 94,
     "metadata": {},
     "output_type": "execute_result"
    }
   ],
   "source": [
    "import pandas as pd\n",
    "df = pd.DataFrame(data)\n",
    "len(df)"
   ]
  },
  {
   "cell_type": "code",
   "execution_count": 95,
   "metadata": {
    "execution": {
     "iopub.execute_input": "2025-04-08T05:00:50.907984Z",
     "iopub.status.busy": "2025-04-08T05:00:50.907699Z",
     "iopub.status.idle": "2025-04-08T05:00:50.919158Z",
     "shell.execute_reply": "2025-04-08T05:00:50.918197Z",
     "shell.execute_reply.started": "2025-04-08T05:00:50.907964Z"
    },
    "trusted": true
   },
   "outputs": [
    {
     "data": {
      "text/html": [
       "<div>\n",
       "<style scoped>\n",
       "    .dataframe tbody tr th:only-of-type {\n",
       "        vertical-align: middle;\n",
       "    }\n",
       "\n",
       "    .dataframe tbody tr th {\n",
       "        vertical-align: top;\n",
       "    }\n",
       "\n",
       "    .dataframe thead th {\n",
       "        text-align: right;\n",
       "    }\n",
       "</style>\n",
       "<table border=\"1\" class=\"dataframe\">\n",
       "  <thead>\n",
       "    <tr style=\"text-align: right;\">\n",
       "      <th></th>\n",
       "      <th>context</th>\n",
       "      <th>question</th>\n",
       "      <th>answerA</th>\n",
       "      <th>answerB</th>\n",
       "      <th>answerC</th>\n",
       "      <th>answerD</th>\n",
       "      <th>correct</th>\n",
       "    </tr>\n",
       "  </thead>\n",
       "  <tbody>\n",
       "    <tr>\n",
       "      <th>0</th>\n",
       "      <td>You may have heard the term \"the American Dream\". In 1848, James W. Marshall found gold in California and people began having golden dreams. That 19th century \"American Dream\" motivated   the Gold Rush and gave California its nickname of the \"Golden State\".\\nThe American Dream drove not only 1800s gold-rush prospectors but also waves of immigrants throughout that century and the next. People from Europe, and a large number of Chinese, arrived in the US in the 19th century hoping that in America they would find gold in the streets. But most, instead, worked as railroad labourers. They created the oldest Chinatown, in San Francisco, and gave the city a Chinese name \"the old gold hill\".\\nIn the 20th century, some critics said that it was no longer possible to become prosperous through determination and hard work. Unfair education for students from poor families and racial discrimination almost made the American Dream a nightmare.\\nThen, in the 1990s, California saw a new wave of dreamers in Silicon Valley. People poured their energy into the Internet. This new chapter of the American Dream attracted many business people and young talents from China and India to form start-ups and seek fortunes in America.\\nBetter pay, a nice house, and a rising standard of living will always be attractive. However, the new American Dream is no longer just about money. It encourages Americans to consume wisely to protect the environment, improve the quality of life, and promote social justice.\\nThe Governor of California, Arnold Schwarzenegger, has become the model of the new American Dream. After years of hard work, he grew from a poor young man from Austria into a movie superstar and then governor. Many people hope his story can save the American Dream and give California a brighter future.</td>\n",
       "      <td>It can be inferred that   _  .</td>\n",
       "      <td>America's golden dream could never be realized</td>\n",
       "      <td>America's golden dream had bought great fortunes to Chinese immigrants</td>\n",
       "      <td>each period of time has its own taste of the American dream</td>\n",
       "      <td>determination and hard work are the best way to realize the American dream</td>\n",
       "      <td>C</td>\n",
       "    </tr>\n",
       "    <tr>\n",
       "      <th>1</th>\n",
       "      <td>You may have heard the term \"the American Dream\". In 1848, James W. Marshall found gold in California and people began having golden dreams. That 19th century \"American Dream\" motivated   the Gold Rush and gave California its nickname of the \"Golden State\".\\nThe American Dream drove not only 1800s gold-rush prospectors but also waves of immigrants throughout that century and the next. People from Europe, and a large number of Chinese, arrived in the US in the 19th century hoping that in America they would find gold in the streets. But most, instead, worked as railroad labourers. They created the oldest Chinatown, in San Francisco, and gave the city a Chinese name \"the old gold hill\".\\nIn the 20th century, some critics said that it was no longer possible to become prosperous through determination and hard work. Unfair education for students from poor families and racial discrimination almost made the American Dream a nightmare.\\nThen, in the 1990s, California saw a new wave of dreamers in Silicon Valley. People poured their energy into the Internet. This new chapter of the American Dream attracted many business people and young talents from China and India to form start-ups and seek fortunes in America.\\nBetter pay, a nice house, and a rising standard of living will always be attractive. However, the new American Dream is no longer just about money. It encourages Americans to consume wisely to protect the environment, improve the quality of life, and promote social justice.\\nThe Governor of California, Arnold Schwarzenegger, has become the model of the new American Dream. After years of hard work, he grew from a poor young man from Austria into a movie superstar and then governor. Many people hope his story can save the American Dream and give California a brighter future.</td>\n",
       "      <td>Why did most of the early immigrants work as railroad laborers?</td>\n",
       "      <td>Because they could earn more money as railroad laborers.</td>\n",
       "      <td>Because they had to make a living by working as railroad laborers.</td>\n",
       "      <td>Because they thought railroad was the first step to find gold.</td>\n",
       "      <td>Because railroad laborers were greatly honored at that time.</td>\n",
       "      <td>B</td>\n",
       "    </tr>\n",
       "    <tr>\n",
       "      <th>2</th>\n",
       "      <td>You may have heard the term \"the American Dream\". In 1848, James W. Marshall found gold in California and people began having golden dreams. That 19th century \"American Dream\" motivated   the Gold Rush and gave California its nickname of the \"Golden State\".\\nThe American Dream drove not only 1800s gold-rush prospectors but also waves of immigrants throughout that century and the next. People from Europe, and a large number of Chinese, arrived in the US in the 19th century hoping that in America they would find gold in the streets. But most, instead, worked as railroad labourers. They created the oldest Chinatown, in San Francisco, and gave the city a Chinese name \"the old gold hill\".\\nIn the 20th century, some critics said that it was no longer possible to become prosperous through determination and hard work. Unfair education for students from poor families and racial discrimination almost made the American Dream a nightmare.\\nThen, in the 1990s, California saw a new wave of dreamers in Silicon Valley. People poured their energy into the Internet. This new chapter of the American Dream attracted many business people and young talents from China and India to form start-ups and seek fortunes in America.\\nBetter pay, a nice house, and a rising standard of living will always be attractive. However, the new American Dream is no longer just about money. It encourages Americans to consume wisely to protect the environment, improve the quality of life, and promote social justice.\\nThe Governor of California, Arnold Schwarzenegger, has become the model of the new American Dream. After years of hard work, he grew from a poor young man from Austria into a movie superstar and then governor. Many people hope his story can save the American Dream and give California a brighter future.</td>\n",
       "      <td>What's the best title of the passage?</td>\n",
       "      <td>Wave of Immigrants to America</td>\n",
       "      <td>Make Fortunes Abroad</td>\n",
       "      <td>Hard Work Leads to Success</td>\n",
       "      <td>Changes of America's Golden Dream</td>\n",
       "      <td>D</td>\n",
       "    </tr>\n",
       "    <tr>\n",
       "      <th>3</th>\n",
       "      <td>How to Tell If Someone Is Happy or Sad on the Phone\\nScientists have come up with some researches on what makes different types of people\"tick\".\\nThe scientists at the University of Cambridge have developed new mobile phone technology called Emotion Sense that can tell if a caller is happy, angry or sad.\\nScientists hope to fit the speech recognition system to standard mobile phones and use it to determine emotions--it will also use a GPS tracking system to log where the call is made.\\n _ \\nThe results from the pilot scheme make interesting scientific reading. Among the key revelations (=facts) are that callers feel happier at home and sadder at work.\\nTo break it down, scientifically, it shows 45 percent of all emotions produced at home are \"happy\"and 54 percent of emotions at work are \"sad\".\\nMeanwhile, people show more \"intense\"(=nervous) emotions in the evening than they do in the morning.\\nOf course, this could just be because most people feel too tired in the morning to get overly \"intense\". Eating breakfast and getting to work on time is usually enough of an achievement.\\nAnyway, the Emotion Sense technology has been developed by psychologists  and computer scientists who say it uses speech recognition software and phone sensors  attached to standard smart phones to judge how callers' emotions are changed by everyday factors.\\nThe sensors analyze voice samples and these are then divided into five categories: happiness, sadness, fearfulness, anger or neutral---boredom or passivity  would fit into this last category.</td>\n",
       "      <td>How many emotions can the sensors tell?</td>\n",
       "      <td>Two</td>\n",
       "      <td>Three</td>\n",
       "      <td>Four</td>\n",
       "      <td>Five</td>\n",
       "      <td>D</td>\n",
       "    </tr>\n",
       "    <tr>\n",
       "      <th>4</th>\n",
       "      <td>How to Tell If Someone Is Happy or Sad on the Phone\\nScientists have come up with some researches on what makes different types of people\"tick\".\\nThe scientists at the University of Cambridge have developed new mobile phone technology called Emotion Sense that can tell if a caller is happy, angry or sad.\\nScientists hope to fit the speech recognition system to standard mobile phones and use it to determine emotions--it will also use a GPS tracking system to log where the call is made.\\n _ \\nThe results from the pilot scheme make interesting scientific reading. Among the key revelations (=facts) are that callers feel happier at home and sadder at work.\\nTo break it down, scientifically, it shows 45 percent of all emotions produced at home are \"happy\"and 54 percent of emotions at work are \"sad\".\\nMeanwhile, people show more \"intense\"(=nervous) emotions in the evening than they do in the morning.\\nOf course, this could just be because most people feel too tired in the morning to get overly \"intense\". Eating breakfast and getting to work on time is usually enough of an achievement.\\nAnyway, the Emotion Sense technology has been developed by psychologists  and computer scientists who say it uses speech recognition software and phone sensors  attached to standard smart phones to judge how callers' emotions are changed by everyday factors.\\nThe sensors analyze voice samples and these are then divided into five categories: happiness, sadness, fearfulness, anger or neutral---boredom or passivity  would fit into this last category.</td>\n",
       "      <td>Why do most people feel less intense in the morning than in the evening?</td>\n",
       "      <td>Because morning is the start of a new day.</td>\n",
       "      <td>because they feel too tired in the morning.</td>\n",
       "      <td>Because of humans' physiological structure.</td>\n",
       "      <td>Because of the fresh air and bright sunlight.</td>\n",
       "      <td>B</td>\n",
       "    </tr>\n",
       "  </tbody>\n",
       "</table>\n",
       "</div>"
      ],
      "text/plain": [
       "                                                                                                                                                                                                                                                                                                                                                                                                                                                                                                                                                                                                                                                                                                                                                                                                                                                                                                                                                                                                                                                                                                                                                                                                                                                                                                                                                                                                                                                                                                                                                                                                                                                                                                                                                                                                                                                                      context  \\\n",
       "0  You may have heard the term \"the American Dream\". In 1848, James W. Marshall found gold in California and people began having golden dreams. That 19th century \"American Dream\" motivated   the Gold Rush and gave California its nickname of the \"Golden State\".\\nThe American Dream drove not only 1800s gold-rush prospectors but also waves of immigrants throughout that century and the next. People from Europe, and a large number of Chinese, arrived in the US in the 19th century hoping that in America they would find gold in the streets. But most, instead, worked as railroad labourers. They created the oldest Chinatown, in San Francisco, and gave the city a Chinese name \"the old gold hill\".\\nIn the 20th century, some critics said that it was no longer possible to become prosperous through determination and hard work. Unfair education for students from poor families and racial discrimination almost made the American Dream a nightmare.\\nThen, in the 1990s, California saw a new wave of dreamers in Silicon Valley. People poured their energy into the Internet. This new chapter of the American Dream attracted many business people and young talents from China and India to form start-ups and seek fortunes in America.\\nBetter pay, a nice house, and a rising standard of living will always be attractive. However, the new American Dream is no longer just about money. It encourages Americans to consume wisely to protect the environment, improve the quality of life, and promote social justice.\\nThe Governor of California, Arnold Schwarzenegger, has become the model of the new American Dream. After years of hard work, he grew from a poor young man from Austria into a movie superstar and then governor. Many people hope his story can save the American Dream and give California a brighter future.   \n",
       "1  You may have heard the term \"the American Dream\". In 1848, James W. Marshall found gold in California and people began having golden dreams. That 19th century \"American Dream\" motivated   the Gold Rush and gave California its nickname of the \"Golden State\".\\nThe American Dream drove not only 1800s gold-rush prospectors but also waves of immigrants throughout that century and the next. People from Europe, and a large number of Chinese, arrived in the US in the 19th century hoping that in America they would find gold in the streets. But most, instead, worked as railroad labourers. They created the oldest Chinatown, in San Francisco, and gave the city a Chinese name \"the old gold hill\".\\nIn the 20th century, some critics said that it was no longer possible to become prosperous through determination and hard work. Unfair education for students from poor families and racial discrimination almost made the American Dream a nightmare.\\nThen, in the 1990s, California saw a new wave of dreamers in Silicon Valley. People poured their energy into the Internet. This new chapter of the American Dream attracted many business people and young talents from China and India to form start-ups and seek fortunes in America.\\nBetter pay, a nice house, and a rising standard of living will always be attractive. However, the new American Dream is no longer just about money. It encourages Americans to consume wisely to protect the environment, improve the quality of life, and promote social justice.\\nThe Governor of California, Arnold Schwarzenegger, has become the model of the new American Dream. After years of hard work, he grew from a poor young man from Austria into a movie superstar and then governor. Many people hope his story can save the American Dream and give California a brighter future.   \n",
       "2  You may have heard the term \"the American Dream\". In 1848, James W. Marshall found gold in California and people began having golden dreams. That 19th century \"American Dream\" motivated   the Gold Rush and gave California its nickname of the \"Golden State\".\\nThe American Dream drove not only 1800s gold-rush prospectors but also waves of immigrants throughout that century and the next. People from Europe, and a large number of Chinese, arrived in the US in the 19th century hoping that in America they would find gold in the streets. But most, instead, worked as railroad labourers. They created the oldest Chinatown, in San Francisco, and gave the city a Chinese name \"the old gold hill\".\\nIn the 20th century, some critics said that it was no longer possible to become prosperous through determination and hard work. Unfair education for students from poor families and racial discrimination almost made the American Dream a nightmare.\\nThen, in the 1990s, California saw a new wave of dreamers in Silicon Valley. People poured their energy into the Internet. This new chapter of the American Dream attracted many business people and young talents from China and India to form start-ups and seek fortunes in America.\\nBetter pay, a nice house, and a rising standard of living will always be attractive. However, the new American Dream is no longer just about money. It encourages Americans to consume wisely to protect the environment, improve the quality of life, and promote social justice.\\nThe Governor of California, Arnold Schwarzenegger, has become the model of the new American Dream. After years of hard work, he grew from a poor young man from Austria into a movie superstar and then governor. Many people hope his story can save the American Dream and give California a brighter future.   \n",
       "3                                                                                                                                                                                                                                                                 How to Tell If Someone Is Happy or Sad on the Phone\\nScientists have come up with some researches on what makes different types of people\"tick\".\\nThe scientists at the University of Cambridge have developed new mobile phone technology called Emotion Sense that can tell if a caller is happy, angry or sad.\\nScientists hope to fit the speech recognition system to standard mobile phones and use it to determine emotions--it will also use a GPS tracking system to log where the call is made.\\n _ \\nThe results from the pilot scheme make interesting scientific reading. Among the key revelations (=facts) are that callers feel happier at home and sadder at work.\\nTo break it down, scientifically, it shows 45 percent of all emotions produced at home are \"happy\"and 54 percent of emotions at work are \"sad\".\\nMeanwhile, people show more \"intense\"(=nervous) emotions in the evening than they do in the morning.\\nOf course, this could just be because most people feel too tired in the morning to get overly \"intense\". Eating breakfast and getting to work on time is usually enough of an achievement.\\nAnyway, the Emotion Sense technology has been developed by psychologists  and computer scientists who say it uses speech recognition software and phone sensors  attached to standard smart phones to judge how callers' emotions are changed by everyday factors.\\nThe sensors analyze voice samples and these are then divided into five categories: happiness, sadness, fearfulness, anger or neutral---boredom or passivity  would fit into this last category.   \n",
       "4                                                                                                                                                                                                                                                                 How to Tell If Someone Is Happy or Sad on the Phone\\nScientists have come up with some researches on what makes different types of people\"tick\".\\nThe scientists at the University of Cambridge have developed new mobile phone technology called Emotion Sense that can tell if a caller is happy, angry or sad.\\nScientists hope to fit the speech recognition system to standard mobile phones and use it to determine emotions--it will also use a GPS tracking system to log where the call is made.\\n _ \\nThe results from the pilot scheme make interesting scientific reading. Among the key revelations (=facts) are that callers feel happier at home and sadder at work.\\nTo break it down, scientifically, it shows 45 percent of all emotions produced at home are \"happy\"and 54 percent of emotions at work are \"sad\".\\nMeanwhile, people show more \"intense\"(=nervous) emotions in the evening than they do in the morning.\\nOf course, this could just be because most people feel too tired in the morning to get overly \"intense\". Eating breakfast and getting to work on time is usually enough of an achievement.\\nAnyway, the Emotion Sense technology has been developed by psychologists  and computer scientists who say it uses speech recognition software and phone sensors  attached to standard smart phones to judge how callers' emotions are changed by everyday factors.\\nThe sensors analyze voice samples and these are then divided into five categories: happiness, sadness, fearfulness, anger or neutral---boredom or passivity  would fit into this last category.   \n",
       "\n",
       "                                                                   question  \\\n",
       "0                                            It can be inferred that   _  .   \n",
       "1           Why did most of the early immigrants work as railroad laborers?   \n",
       "2                                     What's the best title of the passage?   \n",
       "3                                   How many emotions can the sensors tell?   \n",
       "4  Why do most people feel less intense in the morning than in the evening?   \n",
       "\n",
       "                                                    answerA  \\\n",
       "0            America's golden dream could never be realized   \n",
       "1  Because they could earn more money as railroad laborers.   \n",
       "2                             Wave of Immigrants to America   \n",
       "3                                                       Two   \n",
       "4                Because morning is the start of a new day.   \n",
       "\n",
       "                                                                  answerB  \\\n",
       "0  America's golden dream had bought great fortunes to Chinese immigrants   \n",
       "1      Because they had to make a living by working as railroad laborers.   \n",
       "2                                                    Make Fortunes Abroad   \n",
       "3                                                                   Three   \n",
       "4                             because they feel too tired in the morning.   \n",
       "\n",
       "                                                          answerC  \\\n",
       "0     each period of time has its own taste of the American dream   \n",
       "1  Because they thought railroad was the first step to find gold.   \n",
       "2                                      Hard Work Leads to Success   \n",
       "3                                                            Four   \n",
       "4                     Because of humans' physiological structure.   \n",
       "\n",
       "                                                                      answerD  \\\n",
       "0  determination and hard work are the best way to realize the American dream   \n",
       "1                Because railroad laborers were greatly honored at that time.   \n",
       "2                                           Changes of America's Golden Dream   \n",
       "3                                                                        Five   \n",
       "4                               Because of the fresh air and bright sunlight.   \n",
       "\n",
       "  correct  \n",
       "0       C  \n",
       "1       B  \n",
       "2       D  \n",
       "3       D  \n",
       "4       B  "
      ]
     },
     "execution_count": 95,
     "metadata": {},
     "output_type": "execute_result"
    }
   ],
   "source": [
    "df.head(5) "
   ]
  },
  {
   "cell_type": "code",
   "execution_count": 96,
   "metadata": {
    "execution": {
     "iopub.execute_input": "2025-04-08T05:01:01.522427Z",
     "iopub.status.busy": "2025-04-08T05:01:01.522102Z",
     "iopub.status.idle": "2025-04-08T13:52:48.534487Z",
     "shell.execute_reply": "2025-04-08T13:52:48.533574Z",
     "shell.execute_reply.started": "2025-04-08T05:01:01.522403Z"
    },
    "trusted": true
   },
   "outputs": [
    {
     "name": "stdout",
     "output_type": "stream",
     "text": [
      "Processed data saved to compressed_prompts_raceh_v1_trn.jsonl\n",
      "\n",
      "Summary Statistics:\n",
      "Total original tokens: 23647878\n",
      "Total compressed tokens: 11584266\n",
      "Avg compression ratio: 2.04x\n",
      "Processed data saved to cmprsd_prmpt_raceh_v1_trn.jsonl\n",
      "Output saved to Excel file: cmprsd_prmpt_raceh_v1_trn.xlsx\n"
     ]
    }
   ],
   "source": [
    "# Function to compress a single prompt\n",
    "def compress_prompt(text):\n",
    "    import re\n",
    "    text = re.sub(\"-+\", \"[BLANK]\", text)\n",
    "    text = re.sub(\"_+\", \"[BLANK]\", text)\n",
    "\n",
    "    parts = text.split(\"[BLANK]\")\n",
    "    compressed_parts = []\n",
    "\n",
    "    for part in parts:\n",
    "        compressed_part = llm_lingua.compress_prompt(part)[\"compressed_prompt\"]\n",
    "        compressed_parts.append(compressed_part)\n",
    "\n",
    "    compressed_context = \"[BLANK]\".join(compressed_parts)\n",
    "    \n",
    "    return compressed_context\n",
    "\n",
    "\n",
    "# Process each item in the JSON data\n",
    "for item in data:\n",
    "    original_prompt = item[\"context\"]\n",
    "\n",
    "    # Compress the prompt\n",
    "    compressed_prompt = compress_prompt(original_prompt)\n",
    "\n",
    "    # Calculate token sizes\n",
    "    original_token_size = len(encoding.encode(original_prompt))\n",
    "    compressed_token_size = len(encoding.encode(compressed_prompt))\n",
    "\n",
    "    # Add new fields to the item while preserving existing ones\n",
    "    item[\"compressed_prompt\"] = compressed_prompt\n",
    "    item[\"token_size_before\"] = original_token_size\n",
    "    item[\"token_size_after\"] = compressed_token_size\n",
    "\n",
    "# Save the updated data to a new JSON file\n",
    "output_file = \"compressed_prompts_raceh_v1_trn.jsonl\"\n",
    "with open(output_file, \"w\") as f:\n",
    "    json.dump(data, f, indent=4)\n",
    "\n",
    "print(f\"Processed data saved to {output_file}\")\n",
    "\n",
    "# Optional: Print summary statistics\n",
    "total_original_tokens = sum(item[\"token_size_before\"] for item in data)\n",
    "total_compressed_tokens = sum(item[\"token_size_after\"] for item in data)\n",
    "print(f\"\\nSummary Statistics:\")\n",
    "print(f\"Total original tokens: {total_original_tokens}\")\n",
    "print(f\"Total compressed tokens: {total_compressed_tokens}\")\n",
    "print(f\"Avg compression ratio: {total_original_tokens / total_compressed_tokens:.2f}x\")\n",
    "\n",
    "os.chdir('/kaggle/working')\n",
    "os.listdir()\n",
    "\n",
    "# Save the updated data to a new JSON file\n",
    "output_file = \"cmprsd_prmpt_raceh_v1_trn.jsonl\"\n",
    "with open(output_file, \"w\") as f:\n",
    "    json.dump(data, f, indent=4)\n",
    "\n",
    "print(f\"Processed data saved to {output_file}\")\n",
    "\n",
    "# Save the output to an Excel file\n",
    "excel_output_file = \"cmprsd_prmpt_raceh_v1_trn.xlsx\"\n",
    "df = pd.DataFrame(data)\n",
    "df.to_excel(excel_output_file, index=False)\n",
    "print(f\"Output saved to Excel file: {excel_output_file}\")"
   ]
  },
  {
   "cell_type": "markdown",
   "metadata": {},
   "source": [
    "##### Summary Statistics:\n",
    "- Total original tokens: 1308920\n",
    "- Total compressed tokens: 639460\n",
    "- Avg compression ratio: 2.05x\n",
    "- Processed data saved to cmprsd_prmpt_raceh_v1_tst.jsonl\n",
    "- Output saved to Excel file: cmprsd_prmpt_raceh_v1_tst.xlsx\n",
    "\n",
    "##### Summary Statistics:\n",
    "- Total original tokens: 1289102\n",
    "- Total compressed tokens: 631767\n",
    "- Avg compression ratio: 2.04x\n",
    "- Processed data saved to cmprsd_prmpt_raceh_v1_dev.jsonl\n",
    "- Output saved to Excel file: cmprsd_prmpt_raceh_v1_dev.xlsx\n",
    "\n",
    "##### Summary Statistics:\n",
    "- Total original tokens: 23647878\n",
    "- Total compressed tokens: 11584266\n",
    "- Avg compression ratio: 2.04x\n",
    "- Processed data saved to cmprsd_prmpt_raceh_v1_trn.jsonl\n",
    "- Output saved to Excel file: cmprsd_prmpt_raceh_v1_trn.xlsx"
   ]
  },
  {
   "cell_type": "code",
   "execution_count": null,
   "metadata": {
    "trusted": true
   },
   "outputs": [],
   "source": []
  },
  {
   "cell_type": "code",
   "execution_count": null,
   "metadata": {
    "trusted": true
   },
   "outputs": [],
   "source": []
  },
  {
   "cell_type": "code",
   "execution_count": null,
   "metadata": {
    "trusted": true
   },
   "outputs": [],
   "source": []
  },
  {
   "cell_type": "code",
   "execution_count": null,
   "metadata": {
    "trusted": true
   },
   "outputs": [],
   "source": []
  },
  {
   "cell_type": "code",
   "execution_count": null,
   "metadata": {
    "trusted": true
   },
   "outputs": [],
   "source": []
  },
  {
   "cell_type": "code",
   "execution_count": null,
   "metadata": {
    "trusted": true
   },
   "outputs": [],
   "source": []
  },
  {
   "cell_type": "code",
   "execution_count": 62,
   "metadata": {
    "execution": {
     "iopub.execute_input": "2025-04-08T02:50:14.016077Z",
     "iopub.status.busy": "2025-04-08T02:50:14.015786Z",
     "iopub.status.idle": "2025-04-08T02:59:56.366213Z",
     "shell.execute_reply": "2025-04-08T02:59:56.365384Z",
     "shell.execute_reply.started": "2025-04-08T02:50:14.016055Z"
    },
    "trusted": true
   },
   "outputs": [
    {
     "name": "stdout",
     "output_type": "stream",
     "text": [
      "Processed data saved to compressed_prompts_raceh_v1_tst.jsonl\n",
      "\n",
      "Summary Statistics:\n",
      "Total original tokens: 1311587\n",
      "Total compressed tokens: 603173\n",
      "Avg compression ratio: 2.17x\n",
      "Processed data saved to cmprsd_prmpt_raceh_v1_tst.jsonl\n",
      "Output saved to Excel file: cmprsd_prmpt_raceh_v1_tst.xlsx\n"
     ]
    }
   ],
   "source": [
    "# Function to compress a single prompt\n",
    "def compress_prompt(text):\n",
    "    if \"[BLANK]\" in text:\n",
    "        # Split the context into two parts around the token\n",
    "        parts = text.split(\"[BLANK]\")\n",
    "        before_token = parts[0]\n",
    "        after_token = parts[1]\n",
    "        \n",
    "        # Compress each part individually\n",
    "        compressed_before = llm_lingua.compress_prompt(before_token)[\"compressed_prompt\"]\n",
    "        compressed_after = llm_lingua.compress_prompt(after_token)[\"compressed_prompt\"]\n",
    "        \n",
    "        # Concatenate the compressed parts with the token\n",
    "        compressed_context = compressed_before + \"[BLANK]\" + compressed_after\n",
    "    else:\n",
    "        # Simple compression if the token is not present\n",
    "        compressed_context = llm_lingua.compress_prompt(text)[\"compressed_prompt\"]\n",
    "    \n",
    "    return compressed_context\n",
    "\n",
    "\n",
    "# Process each item in the JSON data\n",
    "for item in data:\n",
    "    # item[\"context\"] = item[\"context\"].replace(\"______\", \"_\")\n",
    "    # item[\"context\"] = item[\"context\"].replace(\"_\", \"[BLANK]\")\n",
    "    original_prompt = item[\"context\"]\n",
    "\n",
    "    # Compress the prompt\n",
    "    compressed_prompt = compress_prompt(original_prompt)\n",
    "\n",
    "    # Calculate token sizes\n",
    "    original_token_size = len(encoding.encode(original_prompt))\n",
    "    compressed_token_size = len(encoding.encode(compressed_prompt))\n",
    "\n",
    "    # Add new fields to the item while preserving existing ones\n",
    "    item[\"compressed_prompt\"] = compressed_prompt\n",
    "    item[\"token_size_before\"] = original_token_size\n",
    "    item[\"token_size_after\"] = compressed_token_size\n",
    "\n",
    "# Save the updated data to a new JSON file\n",
    "output_file = \"compressed_prompts_raceh_v1_tst.jsonl\"\n",
    "with open(output_file, \"w\") as f:\n",
    "    json.dump(data, f, indent=4)\n",
    "\n",
    "print(f\"Processed data saved to {output_file}\")\n",
    "\n",
    "# Optional: Print summary statistics\n",
    "total_original_tokens = sum(item[\"token_size_before\"] for item in data)\n",
    "total_compressed_tokens = sum(item[\"token_size_after\"] for item in data)\n",
    "print(f\"\\nSummary Statistics:\")\n",
    "print(f\"Total original tokens: {total_original_tokens}\")\n",
    "print(f\"Total compressed tokens: {total_compressed_tokens}\")\n",
    "print(f\"Avg compression ratio: {total_original_tokens / total_compressed_tokens:.2f}x\")\n",
    "\n",
    "\n",
    "\n",
    "os.chdir('/kaggle/working')\n",
    "os.listdir()\n",
    "\n",
    "\n",
    "# Save the updated data to a new JSON file\n",
    "output_file = \"cmprsd_prmpt_raceh_v1_tst.jsonl\"\n",
    "with open(output_file, \"w\") as f:\n",
    "    json.dump(data, f, indent=4)\n",
    "\n",
    "print(f\"Processed data saved to {output_file}\")\n",
    "\n",
    "\n",
    "# Save the output to an Excel file\n",
    "excel_output_file = \"cmprsd_prmpt_raceh_v1_tst.xlsx\"\n",
    "df = pd.DataFrame(data)\n",
    "df.to_excel(excel_output_file, index=False)\n",
    "print(f\"Output saved to Excel file: {excel_output_file}\")"
   ]
  },
  {
   "cell_type": "code",
   "execution_count": 75,
   "metadata": {
    "_kg_hide-output": true,
    "execution": {
     "iopub.execute_input": "2025-04-08T03:22:35.910023Z",
     "iopub.status.busy": "2025-04-08T03:22:35.909723Z",
     "iopub.status.idle": "2025-04-08T03:22:36.632443Z",
     "shell.execute_reply": "2025-04-08T03:22:36.631713Z",
     "shell.execute_reply.started": "2025-04-08T03:22:35.910002Z"
    },
    "trusted": true
   },
   "outputs": [],
   "source": [
    "df1 = pd.read_excel('cmprsd_prmpt_raceh_v1_tst.xlsx')\n",
    "#df1.head(5)"
   ]
  },
  {
   "cell_type": "markdown",
   "metadata": {},
   "source": [
    "##### Summary Statistics:\n",
    "- Total original tokens: 1311587\n",
    "- Total compressed tokens: 603173\n",
    "- Avg compression ratio: 2.17x\n",
    "- Processed data saved to cmprsd_prmpt_raceh_v1_tst.jsonl\n",
    "- Output saved to Excel file: cmprsd_prmpt_raceh_v1_tst.xlsx"
   ]
  },
  {
   "cell_type": "markdown",
   "metadata": {},
   "source": [
    "# Repeat the steps for all: train, validation and test sets of both SAT/ACT and RACE-H dataset"
   ]
  }
 ],
 "metadata": {
  "accelerator": "GPU",
  "colab": {
   "gpuType": "T4",
   "provenance": []
  },
  "kaggle": {
   "accelerator": "nvidiaTeslaT4",
   "dataSources": [
    {
     "datasetId": 6985807,
     "sourceId": 11190284,
     "sourceType": "datasetVersion"
    },
    {
     "datasetId": 7078573,
     "sourceId": 11316653,
     "sourceType": "datasetVersion"
    },
    {
     "datasetId": 7078585,
     "sourceId": 11316670,
     "sourceType": "datasetVersion"
    }
   ],
   "dockerImageVersionId": 30919,
   "isGpuEnabled": true,
   "isInternetEnabled": true,
   "language": "python",
   "sourceType": "notebook"
  },
  "kernelspec": {
   "display_name": "Python 3",
   "language": "python",
   "name": "python3"
  },
  "language_info": {
   "codemirror_mode": {
    "name": "ipython",
    "version": 3
   },
   "file_extension": ".py",
   "mimetype": "text/x-python",
   "name": "python",
   "nbconvert_exporter": "python",
   "pygments_lexer": "ipython3",
   "version": "3.10.12"
  }
 },
 "nbformat": 4,
 "nbformat_minor": 4
}
